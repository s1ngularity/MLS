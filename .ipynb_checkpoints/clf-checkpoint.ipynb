{
 "cells": [
  {
   "cell_type": "code",
   "execution_count": 1,
   "metadata": {},
   "outputs": [],
   "source": [
    "import pandas\n",
    "\n",
    "train_data = pandas.read_csv(\"train.csv\") #3947 rows x 3 columns\n",
    "test_data = pandas.read_csv(\"test_with_solutions.csv\") #2647 rows x 3 columns\n",
    "\n",
    "X_train = train_data['Comment'].values\n",
    "X_test = test_data['Comment'].values\n",
    "\n",
    "Y_train = train_data['Insult'].values\n",
    "Y_test = test_data['Insult'].values"
   ]
  },
  {
   "cell_type": "code",
   "execution_count": 2,
   "metadata": {},
   "outputs": [
    {
     "name": "stdout",
     "output_type": "stream",
     "text": [
      "#number of words = 16469\n"
     ]
    }
   ],
   "source": [
    "from sklearn.feature_extraction.text import TfidfVectorizer\n",
    "vectorizer = TfidfVectorizer()\n",
    "\n",
    "X_train = vectorizer.fit_transform(X_train)\n",
    "X_test = vectorizer.transform(X_test)\n",
    "\n",
    "print(\"#number of words = %d\" % len(vectorizer.get_feature_names()))"
   ]
  },
  {
   "cell_type": "code",
   "execution_count": 3,
   "metadata": {},
   "outputs": [],
   "source": [
    "X_train = X_train.toarray()\n",
    "X_test = X_test.toarray()"
   ]
  },
  {
   "cell_type": "code",
   "execution_count": 4,
   "metadata": {},
   "outputs": [
    {
     "name": "stdout",
     "output_type": "stream",
     "text": [
      "#accuracy = 0.626466\n"
     ]
    }
   ],
   "source": [
    "from sklearn.naive_bayes import GaussianNB\n",
    "clf = GaussianNB()\n",
    "clf.fit(X_train, Y_train)\n",
    "prediction = clf.predict_proba(X_test)#predict probabilities\n",
    "\n",
    "from sklearn.metrics import roc_auc_score\n",
    "print(\"#accuracy = %f\" %roc_auc_score(Y_test, prediction[:,1])) #calculate area under ROC-curve\n",
    "                                                                # 0.631424"
   ]
  },
  {
   "cell_type": "code",
   "execution_count": 29,
   "metadata": {},
   "outputs": [
    {
     "name": "stdout",
     "output_type": "stream",
     "text": [
      "#accuracy = 0.843911\n"
     ]
    }
   ],
   "source": [
    "from sklearn.naive_bayes import MultinomialNB\n",
    "clf = MultinomialNB(alpha=0.13)\n",
    "clf.fit(X_train, Y_train)\n",
    "prediction = clf.predict_proba(X_test)\n",
    "\n",
    "print(\"#accuracy = %f\" %roc_auc_score(Y_test, prediction[:,1])) # 0.830554"
   ]
  },
  {
   "cell_type": "code",
   "execution_count": 6,
   "metadata": {},
   "outputs": [
    {
     "name": "stdout",
     "output_type": "stream",
     "text": [
      "#accuracy = 0.863118\n"
     ]
    }
   ],
   "source": [
    "from sklearn.naive_bayes import BernoulliNB\n",
    "clf = BernoulliNB(alpha=1.85)\n",
    "clf.fit(X_train, Y_train)\n",
    "prediction = clf.predict_proba(X_test) \n",
    "\n",
    "print(\"#accuracy = %f\" %roc_auc_score(Y_test, prediction[:,1])) # 0.863118"
   ]
  },
  {
   "cell_type": "code",
   "execution_count": 5,
   "metadata": {},
   "outputs": [
    {
     "name": "stdout",
     "output_type": "stream",
     "text": [
      "#accuracy = 0.888033\n"
     ]
    }
   ],
   "source": [
    "from sklearn.linear_model import LogisticRegression\n",
    "#SOLVERS ‘newton-cg=0.871307’,‘lbfgs=0.871305 ’,‘liblinear=0.871002’, ‘sag=0.830833’, ‘saga=0.80567’\n",
    "clf = LogisticRegression(solver='liblinear')\n",
    "clf.fit(X_train, Y_train)\n",
    "prediction = clf.predict_proba(X_test)\n",
    "\n",
    "print(\"#accuracy = %f\" %roc_auc_score(Y_test, prediction[:,1]))"
   ]
  }
 ],
 "metadata": {
  "kernelspec": {
   "display_name": "Python 3",
   "language": "python",
   "name": "python3"
  },
  "language_info": {
   "codemirror_mode": {
    "name": "ipython",
    "version": 3
   },
   "file_extension": ".py",
   "mimetype": "text/x-python",
   "name": "python",
   "nbconvert_exporter": "python",
   "pygments_lexer": "ipython3",
   "version": "3.5.2"
  }
 },
 "nbformat": 4,
 "nbformat_minor": 2
}
